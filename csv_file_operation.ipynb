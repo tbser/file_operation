{
 "cells": [
  {
   "cell_type": "code",
   "execution_count": 1,
   "metadata": {
    "collapsed": true
   },
   "outputs": [],
   "source": [
    "import pandas as pd"
   ]
  },
  {
   "cell_type": "code",
   "execution_count": 16,
   "metadata": {
    "collapsed": false
   },
   "outputs": [
    {
     "name": "stdout",
     "output_type": "stream",
     "text": [
      "    anno_index  coord_x  coord_y  coord_z  diameter  nodule_chance  \\\n",
      "0            0   0.1793   0.4818   0.7383    0.0149         0.8341   \n",
      "1            1   0.1793   0.5154   0.7383    0.0181         0.8746   \n",
      "2            2   0.1793   0.4818   0.7785    0.0169         0.8924   \n",
      "3            3   0.2129   0.4818   0.7785    0.0071         0.6664   \n",
      "4            4   0.1793   0.5154   0.7785    0.0194         0.9009   \n",
      "5            5   0.2129   0.5154   0.7785    0.0072         0.6169   \n",
      "6            6   0.2465   0.6499   0.7785    0.0339         0.9607   \n",
      "7            7   0.2801   0.6499   0.7785    0.0675         1.0000   \n",
      "8            8   0.3137   0.6499   0.7785    0.0661         0.9996   \n",
      "9            9   0.2465   0.6835   0.7785    0.0414         0.9889   \n",
      "10          10   0.2801   0.6835   0.7785    0.0660         1.0000   \n",
      "11          11   0.3137   0.6835   0.7785    0.0624         0.9997   \n",
      "12          12   0.2465   0.6499   0.8188    0.0442         0.9842   \n",
      "13          13   0.2801   0.6499   0.8188    0.0683         1.0000   \n",
      "14          14   0.3137   0.6499   0.8188    0.0654         0.9998   \n",
      "15          15   0.2465   0.6835   0.8188    0.0466         0.9921   \n",
      "16          16   0.2801   0.6835   0.8188    0.0718         1.0000   \n",
      "17          17   0.3137   0.6835   0.8188    0.0644         0.9998   \n",
      "\n",
      "    diameter_mm  \n",
      "0        5.3361  \n",
      "1        6.4776  \n",
      "2        6.0494  \n",
      "3        2.5278  \n",
      "4        6.9332  \n",
      "5        2.5822  \n",
      "6       12.0951  \n",
      "7       24.1043  \n",
      "8       23.6047  \n",
      "9       14.7666  \n",
      "10      23.5745  \n",
      "11      22.2591  \n",
      "12      15.7834  \n",
      "13      24.3753  \n",
      "14      23.3440  \n",
      "15      16.6194  \n",
      "16      25.6267  \n",
      "17      22.9847  \n"
     ]
    }
   ],
   "source": [
    "dir = '/Users/httbser/Downloads/example/437e42695e7ad0a1cb834e1b3e780516/predictions10_luna16_fs/predictions10_luna16_fs_437e42695e7ad0a1cb834e1b3e780516.csv'\n",
    "prediction = pd.read_csv(dir)\n",
    "print(prediction)"
   ]
  },
  {
   "cell_type": "code",
   "execution_count": 17,
   "metadata": {
    "collapsed": false
   },
   "outputs": [
    {
     "name": "stdout",
     "output_type": "stream",
     "text": [
      "anno_index\n",
      "coord_x\n",
      "coord_y\n",
      "coord_z\n",
      "diameter\n",
      "nodule_chance\n",
      "diameter_mm\n"
     ]
    }
   ],
   "source": [
    "for row in prediction:\n",
    "    print(row)"
   ]
  },
  {
   "cell_type": "code",
   "execution_count": 18,
   "metadata": {
    "collapsed": false
   },
   "outputs": [
    {
     "name": "stdout",
     "output_type": "stream",
     "text": [
      "(0, anno_index       0.0000\n",
      "coord_x          0.1793\n",
      "coord_y          0.4818\n",
      "coord_z          0.7383\n",
      "diameter         0.0149\n",
      "nodule_chance    0.8341\n",
      "diameter_mm      5.3361\n",
      "Name: 0, dtype: float64)\n",
      "(1, anno_index       1.0000\n",
      "coord_x          0.1793\n",
      "coord_y          0.5154\n",
      "coord_z          0.7383\n",
      "diameter         0.0181\n",
      "nodule_chance    0.8746\n",
      "diameter_mm      6.4776\n",
      "Name: 1, dtype: float64)\n",
      "(2, anno_index       2.0000\n",
      "coord_x          0.1793\n",
      "coord_y          0.4818\n",
      "coord_z          0.7785\n",
      "diameter         0.0169\n",
      "nodule_chance    0.8924\n",
      "diameter_mm      6.0494\n",
      "Name: 2, dtype: float64)\n",
      "(3, anno_index       3.0000\n",
      "coord_x          0.2129\n",
      "coord_y          0.4818\n",
      "coord_z          0.7785\n",
      "diameter         0.0071\n",
      "nodule_chance    0.6664\n",
      "diameter_mm      2.5278\n",
      "Name: 3, dtype: float64)\n",
      "(4, anno_index       4.0000\n",
      "coord_x          0.1793\n",
      "coord_y          0.5154\n",
      "coord_z          0.7785\n",
      "diameter         0.0194\n",
      "nodule_chance    0.9009\n",
      "diameter_mm      6.9332\n",
      "Name: 4, dtype: float64)\n",
      "(5, anno_index       5.0000\n",
      "coord_x          0.2129\n",
      "coord_y          0.5154\n",
      "coord_z          0.7785\n",
      "diameter         0.0072\n",
      "nodule_chance    0.6169\n",
      "diameter_mm      2.5822\n",
      "Name: 5, dtype: float64)\n",
      "(6, anno_index        6.0000\n",
      "coord_x           0.2465\n",
      "coord_y           0.6499\n",
      "coord_z           0.7785\n",
      "diameter          0.0339\n",
      "nodule_chance     0.9607\n",
      "diameter_mm      12.0951\n",
      "Name: 6, dtype: float64)\n",
      "(7, anno_index        7.0000\n",
      "coord_x           0.2801\n",
      "coord_y           0.6499\n",
      "coord_z           0.7785\n",
      "diameter          0.0675\n",
      "nodule_chance     1.0000\n",
      "diameter_mm      24.1043\n",
      "Name: 7, dtype: float64)\n",
      "(8, anno_index        8.0000\n",
      "coord_x           0.3137\n",
      "coord_y           0.6499\n",
      "coord_z           0.7785\n",
      "diameter          0.0661\n",
      "nodule_chance     0.9996\n",
      "diameter_mm      23.6047\n",
      "Name: 8, dtype: float64)\n",
      "(9, anno_index        9.0000\n",
      "coord_x           0.2465\n",
      "coord_y           0.6835\n",
      "coord_z           0.7785\n",
      "diameter          0.0414\n",
      "nodule_chance     0.9889\n",
      "diameter_mm      14.7666\n",
      "Name: 9, dtype: float64)\n",
      "(10, anno_index       10.0000\n",
      "coord_x           0.2801\n",
      "coord_y           0.6835\n",
      "coord_z           0.7785\n",
      "diameter          0.0660\n",
      "nodule_chance     1.0000\n",
      "diameter_mm      23.5745\n",
      "Name: 10, dtype: float64)\n",
      "(11, anno_index       11.0000\n",
      "coord_x           0.3137\n",
      "coord_y           0.6835\n",
      "coord_z           0.7785\n",
      "diameter          0.0624\n",
      "nodule_chance     0.9997\n",
      "diameter_mm      22.2591\n",
      "Name: 11, dtype: float64)\n",
      "(12, anno_index       12.0000\n",
      "coord_x           0.2465\n",
      "coord_y           0.6499\n",
      "coord_z           0.8188\n",
      "diameter          0.0442\n",
      "nodule_chance     0.9842\n",
      "diameter_mm      15.7834\n",
      "Name: 12, dtype: float64)\n",
      "(13, anno_index       13.0000\n",
      "coord_x           0.2801\n",
      "coord_y           0.6499\n",
      "coord_z           0.8188\n",
      "diameter          0.0683\n",
      "nodule_chance     1.0000\n",
      "diameter_mm      24.3753\n",
      "Name: 13, dtype: float64)\n",
      "(14, anno_index       14.0000\n",
      "coord_x           0.3137\n",
      "coord_y           0.6499\n",
      "coord_z           0.8188\n",
      "diameter          0.0654\n",
      "nodule_chance     0.9998\n",
      "diameter_mm      23.3440\n",
      "Name: 14, dtype: float64)\n",
      "(15, anno_index       15.0000\n",
      "coord_x           0.2465\n",
      "coord_y           0.6835\n",
      "coord_z           0.8188\n",
      "diameter          0.0466\n",
      "nodule_chance     0.9921\n",
      "diameter_mm      16.6194\n",
      "Name: 15, dtype: float64)\n",
      "(16, anno_index       16.0000\n",
      "coord_x           0.2801\n",
      "coord_y           0.6835\n",
      "coord_z           0.8188\n",
      "diameter          0.0718\n",
      "nodule_chance     1.0000\n",
      "diameter_mm      25.6267\n",
      "Name: 16, dtype: float64)\n",
      "(17, anno_index       17.0000\n",
      "coord_x           0.3137\n",
      "coord_y           0.6835\n",
      "coord_z           0.8188\n",
      "diameter          0.0644\n",
      "nodule_chance     0.9998\n",
      "diameter_mm      22.9847\n",
      "Name: 17, dtype: float64)\n"
     ]
    }
   ],
   "source": [
    "for row in prediction.iterrows():\n",
    "    print(row)"
   ]
  },
  {
   "cell_type": "code",
   "execution_count": 49,
   "metadata": {
    "collapsed": false
   },
   "outputs": [
    {
     "name": "stdout",
     "output_type": "stream",
     "text": [
      "[[0.0, 91, 246, 110, 0.0149, 0.83409999999999995, 5.3361000000000001], [1.0, 91, 263, 110, 0.018100000000000002, 0.87460000000000004, 6.4775999999999998], [2.0, 91, 246, 115, 0.016899999999999998, 0.89239999999999997, 6.0494000000000003], [3.0, 109, 246, 115, 0.0071000000000000004, 0.66639999999999999, 2.5278], [4.0, 91, 263, 115, 0.019400000000000001, 0.90090000000000003, 6.9332000000000003], [5.0, 109, 263, 115, 0.0071999999999999998, 0.6169, 2.5821999999999998], [6.0, 126, 332, 115, 0.0339, 0.9607, 12.0951], [7.0, 143, 332, 115, 0.067500000000000004, 1.0, 24.104299999999999], [8.0, 160, 332, 115, 0.066100000000000006, 0.99960000000000004, 23.604700000000001], [9.0, 126, 349, 115, 0.041399999999999999, 0.9889, 14.7666], [10.0, 143, 349, 115, 0.066000000000000003, 1.0, 23.5745], [11.0, 160, 349, 115, 0.062399999999999997, 0.99970000000000003, 22.2591], [12.0, 126, 332, 122, 0.044200000000000003, 0.98419999999999996, 15.7834], [13.0, 143, 332, 122, 0.0683, 1.0, 24.375299999999999], [14.0, 160, 332, 122, 0.0654, 0.99980000000000002, 23.344000000000001], [15.0, 126, 349, 122, 0.046600000000000003, 0.99209999999999998, 16.619399999999999], [16.0, 143, 349, 122, 0.071800000000000003, 1.0, 25.6267], [17.0, 160, 349, 122, 0.064399999999999999, 0.99980000000000002, 22.9847]]\n"
     ]
    }
   ],
   "source": [
    "patient = \"437e42695e7ad0a1cb834e1b3e780516\"\n",
    "dcm_x = 512\n",
    "dcm_y = 512\n",
    "dcm_z = 149\n",
    "trans_line = []\n",
    "for index, row in prediction.iterrows():\n",
    "    trans_x = int(row[\"coord_x\"] * dcm_x)\n",
    "    trans_y = int(row[\"coord_y\"] * dcm_y)\n",
    "    trans_z = int(row[\"coord_z\"] * dcm_z)\n",
    "    trans_line.append([row[\"anno_index\"], trans_x, trans_y, trans_z, row[\"diameter\"], row[\"nodule_chance\"], row[\"diameter_mm\"]])\n",
    "print(trans_line)\n",
    "\n",
    "dst_dir = \"/Users/httbser/Downloads/example/437e42695e7ad0a1cb834e1b3e780516/ndsb3_transform_results/\"\n",
    "import os\n",
    "if not os.path.exists(dst_dir):\n",
    "    os.mkdir(dst_dir)\n",
    "trans_result = pd.DataFrame(trans_line, columns=[\"anno_index\", \"trans_x\", \"trans_y\", \"trans_z\", \"diameter\", \"nodule_chance\",\"diameter_mm\"])\n",
    "trans_result.to_csv(dst_dir + patient + \"_trans.csv\", index=False)"
   ]
  }
 ],
 "metadata": {
  "kernelspec": {
   "display_name": "Python 3",
   "language": "python",
   "name": "python3"
  },
  "language_info": {
   "codemirror_mode": {
    "name": "ipython",
    "version": 3
   },
   "file_extension": ".py",
   "mimetype": "text/x-python",
   "name": "python",
   "nbconvert_exporter": "python",
   "pygments_lexer": "ipython3",
   "version": "3.5.2rc1"
  }
 },
 "nbformat": 4,
 "nbformat_minor": 2
}
